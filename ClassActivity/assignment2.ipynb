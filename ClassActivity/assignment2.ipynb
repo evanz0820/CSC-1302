{
 "cells": [
  {
   "cell_type": "code",
   "execution_count": null,
   "metadata": {},
   "outputs": [],
   "source": [
    "import numpy as np\n",
    "import time\n",
    "import sys\n",
    "sys.setrecursionlimit(5000)"
   ]
  },
  {
   "cell_type": "code",
   "execution_count": 10,
   "metadata": {},
   "outputs": [
    {
     "name": "stdout",
     "output_type": "stream",
     "text": [
      "[    195    2090    3307 ... 9997062 9998664 9999947]\n",
      "The time it takes for bubbleSort is 13.102865934371948 seconds\n"
     ]
    }
   ],
   "source": [
    "arr1 = np.random.randint(0,10000000, 10000)\n",
    "\n",
    "def bubbleSort(list1):\n",
    "    n = len(list1)\n",
    "\n",
    "    if n <= 1:\n",
    "        return list1\n",
    "    \n",
    "    for i in range(n):\n",
    "        for j in range (n-i-1):\n",
    "            if list1[j] > list1[j+1]:\n",
    "                list1[j], list1[j+1] = list1[j+1], list1[j]\n",
    "\n",
    "    return list1\n",
    "\n",
    "startTime = time.time()\n",
    "bubbleSort(arr1)\n",
    "endTime = time.time()\n",
    "print(arr1)\n",
    "print('The time it takes for bubbleSort is', (endTime - startTime), 'seconds')"
   ]
  },
  {
   "cell_type": "code",
   "execution_count": 11,
   "metadata": {},
   "outputs": [
    {
     "name": "stdout",
     "output_type": "stream",
     "text": [
      "[    195    2090    3307 ... 9997062 9998664 9999947]\n",
      "The time it takes for insertSort is 0.0 seconds\n"
     ]
    }
   ],
   "source": [
    "arr2 = arr1.copy()\n",
    "\n",
    "def insertSort(list2):\n",
    "    n = len(list2)\n",
    "\n",
    "    if n <= 1:\n",
    "        return list2\n",
    "    for i in range(1, n):\n",
    "        j = i\n",
    "        target = list2[i]\n",
    "\n",
    "        while j > 0 and target < list2[j-1]:\n",
    "            list2[j] = list2[j-1]\n",
    "            j = j - 1\n",
    "\n",
    "        list2[j] = target\n",
    "    return list2\n",
    "\n",
    "startTime = time.time()\n",
    "insertSort(arr2)\n",
    "endTime = time.time()\n",
    "print(arr2)\n",
    "print('The time it takes for insertSort is', (endTime - startTime), 'seconds')"
   ]
  },
  {
   "cell_type": "code",
   "execution_count": 12,
   "metadata": {},
   "outputs": [
    {
     "ename": "RecursionError",
     "evalue": "maximum recursion depth exceeded in comparison",
     "output_type": "error",
     "traceback": [
      "\u001b[1;31m---------------------------------------------------------------------------\u001b[0m",
      "\u001b[1;31mRecursionError\u001b[0m                            Traceback (most recent call last)",
      "Cell \u001b[1;32mIn[12], line 24\u001b[0m\n\u001b[0;32m     21\u001b[0m         \u001b[39mreturn\u001b[39;00m less \u001b[39m+\u001b[39m pivotList \u001b[39m+\u001b[39m more\n\u001b[0;32m     23\u001b[0m startTime \u001b[39m=\u001b[39m time\u001b[39m.\u001b[39mtime()\n\u001b[1;32m---> 24\u001b[0m quickSort(arr3)\n\u001b[0;32m     25\u001b[0m endTime \u001b[39m=\u001b[39m time\u001b[39m.\u001b[39mtime()\n\u001b[0;32m     26\u001b[0m \u001b[39mprint\u001b[39m(arr3)\n",
      "Cell \u001b[1;32mIn[12], line 20\u001b[0m, in \u001b[0;36mquickSort\u001b[1;34m(list3)\u001b[0m\n\u001b[0;32m     18\u001b[0m         pivotList\u001b[39m.\u001b[39mappend(i)\n\u001b[0;32m     19\u001b[0m less \u001b[39m=\u001b[39m quickSort(less)\n\u001b[1;32m---> 20\u001b[0m more \u001b[39m=\u001b[39m quickSort(more)\n\u001b[0;32m     21\u001b[0m \u001b[39mreturn\u001b[39;00m less \u001b[39m+\u001b[39m pivotList \u001b[39m+\u001b[39m more\n",
      "Cell \u001b[1;32mIn[12], line 20\u001b[0m, in \u001b[0;36mquickSort\u001b[1;34m(list3)\u001b[0m\n\u001b[0;32m     18\u001b[0m         pivotList\u001b[39m.\u001b[39mappend(i)\n\u001b[0;32m     19\u001b[0m less \u001b[39m=\u001b[39m quickSort(less)\n\u001b[1;32m---> 20\u001b[0m more \u001b[39m=\u001b[39m quickSort(more)\n\u001b[0;32m     21\u001b[0m \u001b[39mreturn\u001b[39;00m less \u001b[39m+\u001b[39m pivotList \u001b[39m+\u001b[39m more\n",
      "    \u001b[1;31m[... skipping similar frames: quickSort at line 20 (4970 times)]\u001b[0m\n",
      "Cell \u001b[1;32mIn[12], line 20\u001b[0m, in \u001b[0;36mquickSort\u001b[1;34m(list3)\u001b[0m\n\u001b[0;32m     18\u001b[0m         pivotList\u001b[39m.\u001b[39mappend(i)\n\u001b[0;32m     19\u001b[0m less \u001b[39m=\u001b[39m quickSort(less)\n\u001b[1;32m---> 20\u001b[0m more \u001b[39m=\u001b[39m quickSort(more)\n\u001b[0;32m     21\u001b[0m \u001b[39mreturn\u001b[39;00m less \u001b[39m+\u001b[39m pivotList \u001b[39m+\u001b[39m more\n",
      "Cell \u001b[1;32mIn[12], line 13\u001b[0m, in \u001b[0;36mquickSort\u001b[1;34m(list3)\u001b[0m\n\u001b[0;32m     11\u001b[0m pivot \u001b[39m=\u001b[39m list3[\u001b[39m0\u001b[39m]\n\u001b[0;32m     12\u001b[0m \u001b[39mfor\u001b[39;00m i \u001b[39min\u001b[39;00m list3:\n\u001b[1;32m---> 13\u001b[0m     \u001b[39mif\u001b[39;00m i \u001b[39m<\u001b[39;49m pivot:\n\u001b[0;32m     14\u001b[0m         less\u001b[39m.\u001b[39mappend(i)\n\u001b[0;32m     15\u001b[0m     \u001b[39melif\u001b[39;00m i \u001b[39m>\u001b[39m pivot:\n",
      "\u001b[1;31mRecursionError\u001b[0m: maximum recursion depth exceeded in comparison"
     ]
    }
   ],
   "source": [
    "arr3 = arr1.copy()\n",
    "\n",
    "def quickSort(list3):\n",
    "    less = []\n",
    "    pivotList = []\n",
    "    more = []\n",
    "\n",
    "    if len(list3) <= 1:\n",
    "        return list3\n",
    "    else:\n",
    "        pivot = list3[0]\n",
    "        for i in list3:\n",
    "            if i < pivot:\n",
    "                less.append(i)\n",
    "            elif i > pivot:\n",
    "                more.append(i)\n",
    "            else:\n",
    "                pivotList.append(i)\n",
    "        less = quickSort(less)\n",
    "        more = quickSort(more)\n",
    "        return less + pivotList + more\n",
    "    \n",
    "startTime = time.time()\n",
    "quickSort(arr3)\n",
    "endTime = time.time()\n",
    "print(arr3)\n",
    "print('The time it takes for quickSort is', (endTime - startTime), 'seconds')"
   ]
  },
  {
   "cell_type": "code",
   "execution_count": null,
   "metadata": {},
   "outputs": [],
   "source": [
    "arr4 = arr1.copy()\n",
    "\n",
    "def mergeSort(nums):\n",
    "    def merge(left, right):\n",
    "        result = []\n",
    "        i = j = 0\n",
    "        while i < len(left) and j < len(right):\n",
    "            if left[i] <= right[j]:\n",
    "                result.append(left[i])\n",
    "                i += 1\n",
    "            else:\n",
    "                result.append(right[j])\n",
    "                j += 1\n",
    "        result = result + left[i:] + right[j:]\n",
    "        return result\n",
    "    if len(nums) <= 1:\n",
    "        return nums\n",
    "    mid = len(nums) // 2\n",
    "    left = mergeSort(nums[:mid])\n",
    "    right = mergeSort(nums[mid:])\n",
    "    return merge(left, right)\n",
    "\n",
    "startTime = time.time()\n",
    "mergeSort(arr4)\n",
    "endTime = time.time()\n",
    "print(arr4)\n",
    "print('The time it takes for mergeSort is', (endTime - startTime), 'seconds')"
   ]
  }
 ],
 "metadata": {
  "kernelspec": {
   "display_name": "Python 3",
   "language": "python",
   "name": "python3"
  },
  "language_info": {
   "codemirror_mode": {
    "name": "ipython",
    "version": 3
   },
   "file_extension": ".py",
   "mimetype": "text/x-python",
   "name": "python",
   "nbconvert_exporter": "python",
   "pygments_lexer": "ipython3",
   "version": "3.11.2"
  },
  "orig_nbformat": 4
 },
 "nbformat": 4,
 "nbformat_minor": 2
}
