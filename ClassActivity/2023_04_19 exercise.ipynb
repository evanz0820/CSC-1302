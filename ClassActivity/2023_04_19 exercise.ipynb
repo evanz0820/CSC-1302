{
 "cells": [
  {
   "cell_type": "code",
   "execution_count": 4,
   "metadata": {},
   "outputs": [],
   "source": [
    "import numpy as np\n",
    "\n",
    "arr1 = np.random.randint(0,50, 10)\n",
    "\n",
    "def bubbleSort(list1):\n",
    "    n = len(list1)\n",
    "\n",
    "    if n <= 1:\n",
    "        return list1\n",
    "    \n",
    "    for i in range(n):\n",
    "        for j in range (n-i-1):\n",
    "            if list1[j] > list1[j+1]:\n",
    "                list[j], list [j+1] = list[j+1], list[j]\n",
    "\n",
    "    return list1\n",
    "\n",
    "def insertSort(list2):\n",
    "    n = len(list2)\n",
    "\n",
    "    if n <= 1:\n",
    "        return list2\n",
    "    for i in range(1, n):\n",
    "        k = i\n",
    "        target = list2[i]\n",
    "\n",
    "        while k > 0 and target < list2[k-1]:\n",
    "            list2[k] = list2[k-1]\n",
    "            k = k - 1\n",
    "\n",
    "        list[k] = target\n",
    "    return list2\n"
   ]
  }
 ],
 "metadata": {
  "kernelspec": {
   "display_name": "Python 3",
   "language": "python",
   "name": "python3"
  },
  "language_info": {
   "codemirror_mode": {
    "name": "ipython",
    "version": 3
   },
   "file_extension": ".py",
   "mimetype": "text/x-python",
   "name": "python",
   "nbconvert_exporter": "python",
   "pygments_lexer": "ipython3",
   "version": "3.11.2"
  },
  "orig_nbformat": 4
 },
 "nbformat": 4,
 "nbformat_minor": 2
}
