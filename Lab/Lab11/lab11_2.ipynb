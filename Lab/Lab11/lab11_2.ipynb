{
 "cells": [
  {
   "cell_type": "code",
   "execution_count": 1,
   "metadata": {},
   "outputs": [
    {
     "name": "stdout",
     "output_type": "stream",
     "text": [
      "I am in Engineer School , my department is Computer Science and I am learning Python .\n"
     ]
    }
   ],
   "source": [
    "class EngineerSchool:\n",
    "    def __init__(self, school_name):\n",
    "        self.school_name = school_name\n",
    "\n",
    "\n",
    "class ComputerScience(EngineerSchool):\n",
    "    def __init__(self, department_name, school_name):\n",
    "        EngineerSchool.__init__(self, school_name)\n",
    "        self.department_name = department_name\n",
    "\n",
    "\n",
    "class PythonProgramming(ComputerScience):\n",
    "    def __init__(self, department_name, school_name, programming_language):\n",
    "        ComputerScience.__init__(self, department_name, school_name)\n",
    "        self.programming_language = programming_language\n",
    "\n",
    "    def print_details(self):\n",
    "        print('I am in', self.school_name, ', my department is', self.department_name, 'and I am learning', self.programming_language, '.')\n",
    "\n",
    "python_student = PythonProgramming('Computer Science', 'Engineer School', 'Python')\n",
    "python_student.print_details()"
   ]
  }
 ],
 "metadata": {
  "kernelspec": {
   "display_name": "Python 3",
   "language": "python",
   "name": "python3"
  },
  "language_info": {
   "codemirror_mode": {
    "name": "ipython",
    "version": 3
   },
   "file_extension": ".py",
   "mimetype": "text/x-python",
   "name": "python",
   "nbconvert_exporter": "python",
   "pygments_lexer": "ipython3",
   "version": "3.11.2"
  },
  "orig_nbformat": 4
 },
 "nbformat": 4,
 "nbformat_minor": 2
}
