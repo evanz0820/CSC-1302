{
 "cells": [
  {
   "cell_type": "code",
   "execution_count": 1,
   "metadata": {},
   "outputs": [
    {
     "name": "stdout",
     "output_type": "stream",
     "text": [
      "I am in Google Engineering and my position is Software Engineer .\n"
     ]
    }
   ],
   "source": [
    "class Company:\n",
    "    def __init__(self, company_name):\n",
    "        self.company_name = company_name\n",
    "\n",
    "class Department:\n",
    "    def __init__(self, department_name):\n",
    "        self.department_name = department_name\n",
    "\n",
    "class Position(Company, Department):\n",
    "    def __init__(self, company_name, department_name, position_name):\n",
    "        Company.__init__(self, company_name)\n",
    "        Department.__init__(self, department_name)\n",
    "        self.position_name = position_name\n",
    "    \n",
    "    def display_info(self):\n",
    "        print('I am in', self.company_name, self.department_name, 'and my position is', self.position_name, '.')\n",
    "\n",
    "position = Position(\"Google\", \"Engineering\", \"Software Engineer\")\n",
    "position.display_info()\n"
   ]
  }
 ],
 "metadata": {
  "kernelspec": {
   "display_name": "Python 3",
   "language": "python",
   "name": "python3"
  },
  "language_info": {
   "codemirror_mode": {
    "name": "ipython",
    "version": 3
   },
   "file_extension": ".py",
   "mimetype": "text/x-python",
   "name": "python",
   "nbconvert_exporter": "python",
   "pygments_lexer": "ipython3",
   "version": "3.11.2"
  },
  "orig_nbformat": 4
 },
 "nbformat": 4,
 "nbformat_minor": 2
}
