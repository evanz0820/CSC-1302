{
 "cells": [
  {
   "cell_type": "code",
   "execution_count": 1,
   "metadata": {},
   "outputs": [
    {
     "name": "stdout",
     "output_type": "stream",
     "text": [
      "        LeagueIndex Age HoursPerWeek TotalHours       APM  UniqueHotkeys  \\\n",
      "GameID                                                                     \n",
      "52                5  27           10       3000  143.7180              7   \n",
      "55                5  23           10       5000  129.2322              4   \n",
      "56                4  30           10        200   69.9612              4   \n",
      "57                3  19           20        400  107.6016              1   \n",
      "58                3  32           10        500  122.8908              2   \n",
      "...             ...  ..          ...        ...       ...            ...   \n",
      "9261              4  20            8        400  158.1390              7   \n",
      "9264              5  16           56       1500  186.1320              6   \n",
      "9265              4  21            8        100  121.6992              8   \n",
      "9270              3  20           28        400  134.2848              5   \n",
      "9271              4  22            6        400   88.8246              2   \n",
      "\n",
      "        GapBetweenPACs  ActionLatency  ActionsInPAC  TotalMapExplored  \\\n",
      "GameID                                                                  \n",
      "52             32.6677        40.8673        4.7508                28   \n",
      "55             32.9194        42.3454        4.8434                22   \n",
      "56             44.6475        75.3548        4.0430                22   \n",
      "57             29.2203        53.7352        4.9155                19   \n",
      "58             22.6885        62.0813        9.3740                15   \n",
      "...                ...            ...           ...               ...   \n",
      "9261           36.3990        66.2718        4.5097                30   \n",
      "9264           22.8615        34.7417        4.9309                38   \n",
      "9265           35.5833        57.9585        5.4154                23   \n",
      "9270           18.2927        62.4615        6.0202                18   \n",
      "9271           45.1512        63.4435        5.1913                20   \n",
      "\n",
      "        UniqueUnitsMade  \n",
      "GameID                   \n",
      "52                    6  \n",
      "55                    5  \n",
      "56                    6  \n",
      "57                    7  \n",
      "58                    4  \n",
      "...                 ...  \n",
      "9261                  7  \n",
      "9264                  7  \n",
      "9265                  7  \n",
      "9270                  5  \n",
      "9271                  8  \n",
      "\n",
      "[3338 rows x 11 columns]\n"
     ]
    }
   ],
   "source": [
    "import pandas as pd\n",
    "import numpy as np\n",
    "import matplotlib as plt\n",
    "\n",
    "df= pd.read_csv(\"SkillCraft1_Dataset.csv\",index_col=0)\n",
    "df.drop(df.columns[[5,6,8,9,10,15,17,18]],inplace=True, axis=1)\n",
    "df = df[(df != '?').all(axis=1)]\n",
    "print(df)"
   ]
  }
 ],
 "metadata": {
  "kernelspec": {
   "display_name": "Python 3",
   "language": "python",
   "name": "python3"
  },
  "language_info": {
   "codemirror_mode": {
    "name": "ipython",
    "version": 3
   },
   "file_extension": ".py",
   "mimetype": "text/x-python",
   "name": "python",
   "nbconvert_exporter": "python",
   "pygments_lexer": "ipython3",
   "version": "3.11.2"
  },
  "orig_nbformat": 4,
  "vscode": {
   "interpreter": {
    "hash": "c261aea317cc0286b3b3261fbba9abdec21eaa57589985bb7a274bf54d6cc0a7"
   }
  }
 },
 "nbformat": 4,
 "nbformat_minor": 2
}
